{
 "cells": [
  {
   "cell_type": "code",
   "execution_count": 23,
   "id": "892c0f3f-8a05-4928-b74e-ae3e0a1f59bc",
   "metadata": {},
   "outputs": [
    {
     "data": {
      "text/plain": [
       "' 1. Declare two variables, `x` and `y`, and assign them integer values. Swap the\\nvalues of these variables without using any temporary variable.'"
      ]
     },
     "execution_count": 23,
     "metadata": {},
     "output_type": "execute_result"
    }
   ],
   "source": [
    "''' 1. Declare two variables, `x` and `y`, and assign them integer values. Swap the\n",
    "values of these variables without using any temporary variable.'''"
   ]
  },
  {
   "cell_type": "code",
   "execution_count": 4,
   "id": "1da5be8a-2233-4852-b2a6-3efd04e83235",
   "metadata": {},
   "outputs": [
    {
     "name": "stdout",
     "output_type": "stream",
     "text": [
      "Before swap x: 5 and y: 10\n",
      "After swap x: 10 and y: 5\n"
     ]
    }
   ],
   "source": [
    "x = 5\n",
    "y = 10\n",
    "\n",
    "def swap_variables(x,y):\n",
    " print(f\"Before swap x: {x} and y: {y}\")\n",
    " x,y = y, x\n",
    " print(f\"After swap x: {x} and y: {y}\")\n",
    "\n",
    "swap_variables(x,y)"
   ]
  },
  {
   "cell_type": "markdown",
   "id": "a6bcd772-6850-4eb3-928c-4b802d995eeb",
   "metadata": {},
   "source": [
    "''' 2. Create a program that calculates the area of a rectangle. Take the length and\n",
    "width as inputs from the user and store them in variables. Calculate and\n",
    "display the area.'''"
   ]
  },
  {
   "cell_type": "code",
   "execution_count": 3,
   "id": "8641bc0e-5bd2-441d-b4ea-7960fa2767b4",
   "metadata": {},
   "outputs": [
    {
     "name": "stdin",
     "output_type": "stream",
     "text": [
      "Enter the length of the rectangle:  20\n",
      "Enter the width of the rectangle:  25\n"
     ]
    },
    {
     "name": "stdout",
     "output_type": "stream",
     "text": [
      "The area of the rectangle is: 500.0\n"
     ]
    }
   ],
   "source": [
    "length = float(input(\"Enter the length of the rectangle: \")) \n",
    "width = float(input(\"Enter the width of the rectangle: \"))  \n",
    "\n",
    "area = length * width\n",
    "\n",
    "print(\"The area of the rectangle is:\", area )"
   ]
  },
  {
   "cell_type": "code",
   "execution_count": 4,
   "id": "ce7b688d-ba76-454a-b02a-af43680fc8e1",
   "metadata": {},
   "outputs": [
    {
     "data": {
      "text/plain": [
       "'3. Write a Python program that converts temperatures from Celsius to\\nFahrenheit. Take the temperature in Celsius as input, store it in a variable,\\nconvert it to Fahrenheit, and display the result.'"
      ]
     },
     "execution_count": 4,
     "metadata": {},
     "output_type": "execute_result"
    }
   ],
   "source": [
    "'''3. Write a Python program that converts temperatures from Celsius to\n",
    "Fahrenheit. Take the temperature in Celsius as input, store it in a variable,\n",
    "convert it to Fahrenheit, and display the result.'''"
   ]
  },
  {
   "cell_type": "code",
   "execution_count": 5,
   "id": "12763632-9f87-48af-a24a-b47b3394c099",
   "metadata": {},
   "outputs": [
    {
     "name": "stdin",
     "output_type": "stream",
     "text": [
      "Enter temperature in Celsius:  35\n"
     ]
    },
    {
     "name": "stdout",
     "output_type": "stream",
     "text": [
      "35.0 Celsius is equal to 95.00 Fahrenheit\n"
     ]
    }
   ],
   "source": [
    "celsius_temperature = float(input(\"Enter temperature in Celsius: \"))\n",
    "\n",
    "fahrenheit_temperature = (celsius_temperature * 9/5) + 32\n",
    "\n",
    "print(f\"{celsius_temperature} Celsius is equal to {fahrenheit_temperature:.2f} Fahrenheit\")"
   ]
  },
  {
   "cell_type": "code",
   "execution_count": 6,
   "id": "a8c1f68e-de02-4ee6-bb1b-c6560697bf35",
   "metadata": {},
   "outputs": [],
   "source": [
    "# STRING BASED QUESTIONS"
   ]
  },
  {
   "cell_type": "code",
   "execution_count": 7,
   "id": "587445f2-70f8-4add-9856-715449e44b7c",
   "metadata": {},
   "outputs": [
    {
     "data": {
      "text/plain": [
       "' 1. Write a Python program that takes a string as input and prints the length of\\nthe string.'"
      ]
     },
     "execution_count": 7,
     "metadata": {},
     "output_type": "execute_result"
    }
   ],
   "source": [
    "''' 1. Write a Python program that takes a string as input and prints the length of\n",
    "the string.'''"
   ]
  },
  {
   "cell_type": "code",
   "execution_count": 8,
   "id": "a0d00b65-93cf-40fb-8103-732ac75172fb",
   "metadata": {},
   "outputs": [
    {
     "name": "stdin",
     "output_type": "stream",
     "text": [
      "enter a string: My name is Ankit Rai.\n"
     ]
    },
    {
     "name": "stdout",
     "output_type": "stream",
     "text": [
      "The length of string is: 21\n"
     ]
    }
   ],
   "source": [
    "input_string = input(\"enter a string:\" )\n",
    "\n",
    "string_length = len(input_string)\n",
    "\n",
    "print(\"The length of string is:\", string_length)"
   ]
  },
  {
   "cell_type": "code",
   "execution_count": 9,
   "id": "36a1cbff-44ee-4d73-8747-4a0b678f0243",
   "metadata": {},
   "outputs": [
    {
     "data": {
      "text/plain": [
       "' 2. Create a program that takes a sentence from the user and counts the number\\nof vowels (a, e, i, o, u) in the string.'"
      ]
     },
     "execution_count": 9,
     "metadata": {},
     "output_type": "execute_result"
    }
   ],
   "source": [
    "''' 2. Create a program that takes a sentence from the user and counts the number\n",
    "of vowels (a, e, i, o, u) in the string.'''"
   ]
  },
  {
   "cell_type": "code",
   "execution_count": 21,
   "id": "a9e0a6bb-9c78-4f55-b605-1695f10ca6fa",
   "metadata": {},
   "outputs": [
    {
     "name": "stdin",
     "output_type": "stream",
     "text": [
      "Enter a sentence:  my name is ankit rai\n"
     ]
    },
    {
     "name": "stdout",
     "output_type": "stream",
     "text": [
      "Number of vowels: 7\n"
     ]
    }
   ],
   "source": [
    "sentence = input(\"Enter a sentence: \" )\n",
    "\n",
    "vowel_count = 0\n",
    "\n",
    "for char in sentence:\n",
    "    char_lower = char.lower()\n",
    "\n",
    "    if char_lower in \"aeiou\":\n",
    "        vowel_count += 1\n",
    "            \n",
    "print(\"Number of vowels:\", vowel_count)\n"
   ]
  },
  {
   "cell_type": "code",
   "execution_count": 22,
   "id": "7ee80436-dd6b-4061-b4de-cdf9e2c00205",
   "metadata": {},
   "outputs": [
    {
     "data": {
      "text/plain": [
       "' 3. Given a string, reverse the order of characters using string slicing and print\\nthe reversed string. '"
      ]
     },
     "execution_count": 22,
     "metadata": {},
     "output_type": "execute_result"
    }
   ],
   "source": [
    "''' 3. Given a string, reverse the order of characters using string slicing and print\n",
    "the reversed string. '''"
   ]
  },
  {
   "cell_type": "code",
   "execution_count": 23,
   "id": "6fc196e4-fdab-4ce3-a58f-e8972d6304b4",
   "metadata": {},
   "outputs": [
    {
     "name": "stdin",
     "output_type": "stream",
     "text": [
      "Enter a string: my name is ankit rai\n"
     ]
    },
    {
     "name": "stdout",
     "output_type": "stream",
     "text": [
      "Reversed string: iar tikna si eman ym\n"
     ]
    }
   ],
   "source": [
    "input_string = input( \"Enter a string:\" )\n",
    "\n",
    "reversed_string = input_string [:: -1]\n",
    "\n",
    "print(\"Reversed string:\", reversed_string)"
   ]
  },
  {
   "cell_type": "code",
   "execution_count": 24,
   "id": "0f7666a2-de58-474f-ad51-e52048b76569",
   "metadata": {},
   "outputs": [
    {
     "data": {
      "text/plain": [
       "' 4. Write a program that takes a string as input and checks if it is a palindrome\\n(reads the same forwards and backwards). '"
      ]
     },
     "execution_count": 24,
     "metadata": {},
     "output_type": "execute_result"
    }
   ],
   "source": [
    "''' 4. Write a program that takes a string as input and checks if it is a palindrome\n",
    "(reads the same forwards and backwards). '''"
   ]
  },
  {
   "cell_type": "code",
   "execution_count": 26,
   "id": "2fb81d2e-32f6-42a7-bf92-232fea3a3b3a",
   "metadata": {},
   "outputs": [
    {
     "name": "stdin",
     "output_type": "stream",
     "text": [
      " Enter a string: madam\n"
     ]
    },
    {
     "name": "stdout",
     "output_type": "stream",
     "text": [
      "The input string is a palindrome.\n"
     ]
    }
   ],
   "source": [
    "input_string = input(\" Enter a string:\" )\n",
    "\n",
    "cleaned_string = input_string.replace(\" \", \"\").lower()\n",
    "\n",
    "reversed_string = cleaned_string[::-1]\n",
    "\n",
    "if cleaned_string == reversed_string:\n",
    "    print(\"The input string is a palindrome.\")\n",
    "else:\n",
    "    print(\"The input string is not a palindrome.\")"
   ]
  },
  {
   "cell_type": "code",
   "execution_count": 27,
   "id": "aac4246a-3104-4a80-89e5-68e069741e66",
   "metadata": {},
   "outputs": [
    {
     "data": {
      "text/plain": [
       "' 5. Create a program that takes a string as input and removes all the spaces from\\nit. Print the modified string without spaces. '"
      ]
     },
     "execution_count": 27,
     "metadata": {},
     "output_type": "execute_result"
    }
   ],
   "source": [
    "''' 5. Create a program that takes a string as input and removes all the spaces from\n",
    "it. Print the modified string without spaces. '''"
   ]
  },
  {
   "cell_type": "code",
   "execution_count": 28,
   "id": "25db8fc1-c57f-4044-abb4-ca42c59b89b6",
   "metadata": {},
   "outputs": [
    {
     "name": "stdin",
     "output_type": "stream",
     "text": [
      "Enter a string: this is the last question of 19th August assignment.\n"
     ]
    },
    {
     "name": "stdout",
     "output_type": "stream",
     "text": [
      "Modified string withoput space: thisisthelastquestionof19thAugustassignment.\n"
     ]
    }
   ],
   "source": [
    "input_string = input(\"Enter a string:\" )\n",
    "\n",
    "modified_string = \"\"\n",
    "\n",
    "for char in input_string:\n",
    "     if char != \" \":\n",
    "              modified_string += char\n",
    "                \n",
    "            \n",
    "print(\"Modified string withoput space:\", modified_string)\n",
    "        \n",
    "        "
   ]
  }
 ],
 "metadata": {
  "kernelspec": {
   "display_name": "Python 3 (ipykernel)",
   "language": "python",
   "name": "python3"
  },
  "language_info": {
   "codemirror_mode": {
    "name": "ipython",
    "version": 3
   },
   "file_extension": ".py",
   "mimetype": "text/x-python",
   "name": "python",
   "nbconvert_exporter": "python",
   "pygments_lexer": "ipython3",
   "version": "3.10.8"
  }
 },
 "nbformat": 4,
 "nbformat_minor": 5
}
